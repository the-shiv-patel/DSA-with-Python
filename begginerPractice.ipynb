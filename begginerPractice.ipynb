{
 "cells": [
  {
   "cell_type": "code",
   "execution_count": 18,
   "metadata": {},
   "outputs": [
    {
     "name": "stdout",
     "output_type": "stream",
     "text": [
      "The sum of all number in the string is  413\n"
     ]
    }
   ],
   "source": [
    "#Sum of numers\n",
    "l1=[1,35,2,25,2,52,5,34,45,45,6,26,63,62,5,5]\n",
    "sum=0\n",
    "for number in l1:\n",
    "    sum+=number\n",
    "print(\"The sum of all number in the string is \",sum)"
   ]
  },
  {
   "cell_type": "code",
   "execution_count": 2,
   "metadata": {},
   "outputs": [
    {
     "name": "stdout",
     "output_type": "stream",
     "text": [
      "The minimum number is 1 \n",
      "And the maximum number is  63\n"
     ]
    }
   ],
   "source": [
    "# minimum an maximum number\n",
    "min=l1[0]\n",
    "max=l1[0]\n",
    "for num in l1:\n",
    "    if num<min:\n",
    "        min=num\n",
    "    if max<num:\n",
    "        max=num\n",
    "print(\"The minimum number is\",min, \"\\nAnd the maximum number is \",max)"
   ]
  },
  {
   "cell_type": "code",
   "execution_count": 33,
   "metadata": {},
   "outputs": [],
   "source": [
    "list=[1,6,42,35,23,15]\n",
    "\n",
    "# for i in range(len(list)):\n",
    "#     if list[i]>10:\n",
    "#         list.insert(i+1,int(list[i]%10))\n",
    "#         list[i]=int(list[i]/10)\n",
    "#     print(\"We are at index:- \",i)\n",
    "# print(list)"
   ]
  },
  {
   "cell_type": "code",
   "execution_count": 35,
   "metadata": {},
   "outputs": [
    {
     "name": "stdout",
     "output_type": "stream",
     "text": [
      "We are at index:-  0 / 6\n",
      "We are at index:-  1 / 6\n",
      "We are at index:-  2 / 7\n",
      "We are at index:-  3 / 7\n",
      "We are at index:-  4 / 8\n",
      "We are at index:-  5 / 8\n",
      "We are at index:-  6 / 9\n",
      "We are at index:-  7 / 9\n",
      "We are at index:-  8 / 10\n",
      "We are at index:-  9 / 10\n",
      "[1, 6, 4, 2, 3, 5, 2, 3, 1, 5]\n"
     ]
    }
   ],
   "source": [
    "i=0\n",
    "while i<len(list):\n",
    "    if list[i]>10:\n",
    "        list.insert(i+1,int(list[i]%10))\n",
    "        list[i]=int(list[i]/10)\n",
    "    print(\"We are at index:- \",i,\"/\",len(list))\n",
    "    i+=1\n",
    "print(list)"
   ]
  },
  {
   "cell_type": "code",
   "execution_count": 43,
   "metadata": {},
   "outputs": [
    {
     "name": "stdout",
     "output_type": "stream",
     "text": [
      "0  repeated 0  Times\n",
      "1  repeated 2  Times\n",
      "2  repeated 2  Times\n",
      "3  repeated 2  Times\n",
      "4  repeated 1  Times\n",
      "5  repeated 2  Times\n",
      "6  repeated 1  Times\n",
      "7  repeated 0  Times\n",
      "8  repeated 0  Times\n",
      "9  repeated 0  Times\n"
     ]
    }
   ],
   "source": [
    "# Occurance\n",
    "\n",
    "occurence=[[i,0] for i in range(10)]\n",
    "for i in range(10):\n",
    "    occurence.append([i,0])\n",
    "for num in list:\n",
    "    occurence[num][1]+=1\n",
    "\n",
    "\n",
    "for i in range(10):\n",
    "    print(occurence[i][0],\" repeated\",occurence[i][1],\" Times\")"
   ]
  },
  {
   "cell_type": "code",
   "execution_count": 39,
   "metadata": {},
   "outputs": [
    {
     "name": "stdout",
     "output_type": "stream",
     "text": [
      "[[0, 0], [1, 0], [2, 0], [3, 0], [4, 0], [5, 0], [6, 0], [7, 0], [8, 0], [9, 0]]\n"
     ]
    }
   ],
   "source": [
    "occ=[[i,0] for i in range(10)]\n",
    "print(occ)"
   ]
  },
  {
   "cell_type": "code",
   "execution_count": 45,
   "metadata": {},
   "outputs": [
    {
     "name": "stdout",
     "output_type": "stream",
     "text": [
      "5 1\n",
      "1 6\n",
      "3 4\n",
      "2 2\n",
      "5 3\n",
      "3 5\n",
      "2 2\n",
      "4 3\n",
      "6 1\n",
      "1 5\n"
     ]
    }
   ],
   "source": [
    "l3=[]\n",
    "for i in range(len(list)):\n",
    "    l3.append(list[len(list)-i-1])\n",
    "    print(l3[i],list[i])"
   ]
  },
  {
   "cell_type": "code",
   "execution_count": 51,
   "metadata": {},
   "outputs": [
    {
     "name": "stdout",
     "output_type": "stream",
     "text": [
      "[1, 6, 4, 2, 3, 5, 2, 3, 1, 5]\n",
      "[1, 6, 4, 2, 3, 5]\n"
     ]
    }
   ],
   "source": [
    "set1=set()\n",
    "list4=list[:]\n",
    "print(list4)\n",
    "i=0\n",
    "while True:\n",
    "    if list4[i] not in set1:\n",
    "        set1.add(list4[i])\n",
    "        i+=1\n",
    "    else:\n",
    "        list4.pop(i)\n",
    "    if len(list4)<=i:\n",
    "        break\n",
    "print(list4)"
   ]
  },
  {
   "cell_type": "code",
   "execution_count": null,
   "metadata": {},
   "outputs": [],
   "source": []
  }
 ],
 "metadata": {
  "kernelspec": {
   "display_name": "Python 3",
   "language": "python",
   "name": "python3"
  },
  "language_info": {
   "codemirror_mode": {
    "name": "ipython",
    "version": 3
   },
   "file_extension": ".py",
   "mimetype": "text/x-python",
   "name": "python",
   "nbconvert_exporter": "python",
   "pygments_lexer": "ipython3",
   "version": "3.12.7"
  }
 },
 "nbformat": 4,
 "nbformat_minor": 2
}
